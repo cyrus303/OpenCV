{
 "cells": [
  {
   "cell_type": "code",
   "execution_count": 5,
   "metadata": {},
   "outputs": [
    {
     "name": "stdout",
     "output_type": "stream",
     "text": [
      "Collecting imutils\n",
      "  Downloading https://files.pythonhosted.org/packages/b5/94/46dcae8c061e28be31bcaa55c560cb30ee9403c9a4bb2659768ec1b9eb7d/imutils-0.5.3.tar.gz\n",
      "Building wheels for collected packages: imutils\n",
      "  Building wheel for imutils (setup.py): started\n",
      "  Building wheel for imutils (setup.py): finished with status 'done'\n",
      "  Created wheel for imutils: filename=imutils-0.5.3-cp37-none-any.whl size=25853 sha256=d18b7a950ea1c4719bae52990b66273ecb6d4e01bc35f8b521a48c7e354ebfaf\n",
      "  Stored in directory: C:\\Users\\User\\AppData\\Local\\pip\\Cache\\wheels\\16\\84\\1f\\bf88641293cda2c8be81a5c4b8ca973dd9125a6dc3767417fd\n",
      "Successfully built imutils\n",
      "Installing collected packages: imutils\n",
      "Successfully installed imutils-0.5.3\n"
     ]
    }
   ],
   "source": [
    "!pip install imutils"
   ]
  },
  {
   "cell_type": "code",
   "execution_count": 1,
   "metadata": {},
   "outputs": [],
   "source": [
    "# import the necessary packages\n",
    "from imutils.perspective import four_point_transform\n",
    "from imutils import contours\n",
    "import imutils\n",
    "import cv2\n",
    " \n",
    "# defining the dictionary of the digit segments so we can identify them seperatly\n",
    "# each digit on the thermostat i.e 0,1,2,3,4,5,6,7,8 and 9\n",
    "DIGITS_LOOKUP = {\n",
    "(1, 1, 1, 0, 1, 1, 1): 0,\n",
    "(0, 0, 1, 0, 0, 1, 0): 1,\n",
    "(1, 0, 1, 1, 1, 1, 0): 2,\n",
    "(1, 0, 1, 1, 0, 1, 1): 3,\n",
    "(0, 1, 1, 1, 0, 1, 0): 4,\n",
    "(1, 1, 0, 1, 0, 1, 1): 5,\n",
    "(1, 1, 0, 1, 1, 1, 1): 6,\n",
    "(1, 0, 1, 0, 0, 1, 0): 7,\n",
    "(1, 1, 1, 1, 1, 1, 1): 8,\n",
    "(1, 1, 1, 1, 0, 1, 1): 9\n",
    "}"
   ]
  },
  {
   "cell_type": "code",
   "execution_count": 5,
   "metadata": {},
   "outputs": [],
   "source": [
    "# loading the example image\n",
    "image = cv2.imread(\"example.jpg\")"
   ]
  },
  {
   "cell_type": "code",
   "execution_count": 6,
   "metadata": {},
   "outputs": [],
   "source": [
    "cv2.imshow('image',image)\n",
    "cv2.waitKey(0)\n",
    "cv2.destroyAllWindows()"
   ]
  },
  {
   "cell_type": "code",
   "execution_count": 2,
   "metadata": {},
   "outputs": [],
   "source": [
    "# pre-process the image by resizing it, converting it into\n",
    "# graycale, blurring it, and computing an edge map out of it\n",
    "image = imutils.resize(image, height=500)\n",
    "gray = cv2.cvtColor(image, cv2.COLOR_BGR2GRAY)\n",
    "blurred = cv2.GaussianBlur(gray, (5, 5), 0)\n",
    "edged = cv2.Can(blurred, 50, 200, 255)"
   ]
  },
  {
   "cell_type": "code",
   "execution_count": 7,
   "metadata": {},
   "outputs": [],
   "source": [
    "cv2.imshow('image',edged)\n",
    "cv2.waitKey(0)\n",
    "cv2.destroyAllWindows()"
   ]
  },
  {
   "cell_type": "code",
   "execution_count": 38,
   "metadata": {},
   "outputs": [],
   "source": [
    "# find contours in the edge map, then sort them by their\n",
    "# size in descending order\n",
    "cnts = cv2.findContours(edged.copy(), cv2.RETR_EXTERNAL,\n",
    "\tcv2.CHAIN_APPROX_SIMPLE)\n",
    "cnts = imutils.grab_contours(cnts)\n",
    "cnts = sorted(cnts, key=cv2.contourArea, reverse=True)\n",
    "displayCnt = None\n",
    " \n",
    "# looping over the contours\n",
    "for c in cnts:\n",
    "\t# approximate the contour\n",
    "\tperi = cv2.arcLength(c, True)\n",
    "\tapprox = cv2.approxPolyDP(c, 0.02 * peri, True)\n",
    " \n",
    "\t# if the contour has four vertices, then we have found\n",
    "\t# the thermostat display\n",
    "\tif len(approx) == 4:\n",
    "\t\tdisplayCnt = approx\n",
    "\t\tbreak"
   ]
  },
  {
   "cell_type": "code",
   "execution_count": 39,
   "metadata": {},
   "outputs": [],
   "source": [
    "# extracting the thermostat display, apply a perspective transform\n",
    "# to it\n",
    "warped = four_point_transform(gray, displayCnt.reshape(4, 2))\n",
    "output = four_point_transform(image, displayCnt.reshape(4, 2))"
   ]
  },
  {
   "cell_type": "code",
   "execution_count": 40,
   "metadata": {},
   "outputs": [],
   "source": [
    "cv2.imshow('image',warped)\n",
    "cv2.waitKey(0)\n",
    "cv2.destroyAllWindows()"
   ]
  },
  {
   "cell_type": "code",
   "execution_count": 41,
   "metadata": {},
   "outputs": [],
   "source": [
    "cv2.imshow('image',output)\n",
    "cv2.waitKey(0)\n",
    "cv2.destroyAllWindows()"
   ]
  },
  {
   "cell_type": "code",
   "execution_count": 42,
   "metadata": {},
   "outputs": [],
   "source": [
    "# threshold the warped image, then apply a series of morphological\n",
    "# operations to cleanup the thresholded image\n",
    "thresh = cv2.threshold(warped, 0, 255,\n",
    "cv2.THRESH_BINARY_INV | cv2.THRESH_OTSU)[1]\n",
    "kernel = cv2.getStructuringElement(cv2.MORPH_ELLIPSE, (1, 5))\n",
    "thresh = cv2.morphologyEx(thresh, cv2.MORPH_OPEN, kernel)"
   ]
  },
  {
   "cell_type": "code",
   "execution_count": 43,
   "metadata": {},
   "outputs": [],
   "source": [
    "cv2.imshow('image',thresh)\n",
    "cv2.waitKey(0)\n",
    "cv2.destroyAllWindows()"
   ]
  },
  {
   "cell_type": "code",
   "execution_count": 44,
   "metadata": {},
   "outputs": [],
   "source": [
    "# find contours in the thresholded image, then initialize the\n",
    "# digit contours lists\n",
    "cnts = cv2.findContours(thresh.copy(), cv2.RETR_EXTERNAL,\n",
    "\tcv2.CHAIN_APPROX_SIMPLE)\n",
    "cnts = imutils.grab_contours(cnts)\n",
    "digitCnts = []\n",
    " \n",
    "# loop over the digit area candidates\n",
    "for c in cnts:\n",
    "\t# compute the bounding box of the contour\n",
    "\t(x, y, w, h) = cv2.boundingRect(c)\n",
    " \n",
    "\t# if the contour is sufficiently large, it must be a digit\n",
    "\tif w >= 15 and (h >= 30 and h <= 40):\n",
    "\t\tdigitCnts.append(c)"
   ]
  },
  {
   "cell_type": "code",
   "execution_count": 46,
   "metadata": {},
   "outputs": [],
   "source": [
    "# sort the contours from left-to-right, then initialize the\n",
    "# actual digits themselves\n",
    "digitCnts = contours.sort_contours(digitCnts,\n",
    "\tmethod=\"left-to-right\")[0]\n",
    "digits = []"
   ]
  },
  {
   "cell_type": "code",
   "execution_count": 47,
   "metadata": {},
   "outputs": [],
   "source": [
    "# loop over each of the digits\n",
    "for c in digitCnts:\n",
    "\t# extract the digit ROI\n",
    "\t(x, y, w, h) = cv2.boundingRect(c)\n",
    "\troi = thresh[y:y + h, x:x + w]\n",
    " \n",
    "\t# compute the width and height of each of the 7 segments\n",
    "\t# we are going to examine\n",
    "\t(roiH, roiW) = roi.shape\n",
    "\t(dW, dH) = (int(roiW * 0.25), int(roiH * 0.15))\n",
    "\tdHC = int(roiH * 0.05)\n",
    " \n",
    "\t# define the set of 7 segments\n",
    "\tsegments = [\n",
    "\t\t((0, 0), (w, dH)),\t# top\n",
    "\t\t((0, 0), (dW, h // 2)),\t# top-left\n",
    "\t\t((w - dW, 0), (w, h // 2)),\t# top-right\n",
    "\t\t((0, (h // 2) - dHC) , (w, (h // 2) + dHC)), # center\n",
    "\t\t((0, h // 2), (dW, h)),\t# bottom-left\n",
    "\t\t((w - dW, h // 2), (w, h)),\t# bottom-right\n",
    "\t\t((0, h - dH), (w, h))\t# bottom\n",
    "\t]\n",
    "\ton = [0] * len(segments)"
   ]
  },
  {
   "cell_type": "code",
   "execution_count": 48,
   "metadata": {},
   "outputs": [
    {
     "data": {
      "text/plain": [
       "array([[[ 42,  61,  82],\n",
       "        [ 64,  81, 100],\n",
       "        [ 64,  82,  99],\n",
       "        ...,\n",
       "        [ 69,  89, 107],\n",
       "        [ 70,  90, 108],\n",
       "        [ 69,  89, 107]],\n",
       "\n",
       "       [[ 74,  96, 114],\n",
       "        [ 75,  92, 111],\n",
       "        [ 76,  94, 111],\n",
       "        ...,\n",
       "        [ 67,  87, 105],\n",
       "        [ 67,  87, 105],\n",
       "        [ 67,  87, 105]],\n",
       "\n",
       "       [[ 74,  96, 114],\n",
       "        [ 74,  91, 110],\n",
       "        [ 81,  99, 116],\n",
       "        ...,\n",
       "        [ 66,  86, 104],\n",
       "        [ 65,  85, 103],\n",
       "        [ 67,  87, 105]],\n",
       "\n",
       "       ...,\n",
       "\n",
       "       [[158, 172, 190],\n",
       "        [159, 173, 191],\n",
       "        [156, 172, 189],\n",
       "        ...,\n",
       "        [143, 159, 176],\n",
       "        [143, 159, 176],\n",
       "        [142, 158, 175]],\n",
       "\n",
       "       [[154, 168, 186],\n",
       "        [155, 169, 187],\n",
       "        [156, 172, 189],\n",
       "        ...,\n",
       "        [145, 161, 178],\n",
       "        [145, 161, 178],\n",
       "        [144, 160, 177]],\n",
       "\n",
       "       [[156, 170, 188],\n",
       "        [156, 170, 188],\n",
       "        [156, 172, 189],\n",
       "        ...,\n",
       "        [144, 160, 177],\n",
       "        [144, 160, 177],\n",
       "        [143, 159, 176]]], dtype=uint8)"
      ]
     },
     "execution_count": 48,
     "metadata": {},
     "output_type": "execute_result"
    }
   ],
   "source": [
    "# loop over the segments\n",
    "for (i, ((xA, yA), (xB, yB))) in enumerate(segments):\n",
    "\t# extract the segment ROI, count the total number of\n",
    "\t# thresholded pixels in the segment, and then compute\n",
    "\t# the area of the segment\n",
    "\tsegROI = roi[yA:yB, xA:xB]\n",
    "\ttotal = cv2.countNonZero(segROI)\n",
    "\tarea = (xB - xA) * (yB - yA)\n",
    "\n",
    "\t# if the total number of non-zero pixels is greater than\n",
    "\t# 50% of the area, mark the segment as \"on\"\n",
    "\tif total / float(area) > 0.5:\n",
    "\t\ton[i]= 1\n",
    " \n",
    "# lookup the digit and draw it on the image\n",
    "digit = DIGITS_LOOKUP[tuple(on)]\n",
    "digits.append(digit)\n",
    "cv2.rectangle(output, (x, y), (x + w, y + h), (0, 255, 0), 1)\n",
    "cv2.putText(output, str(digit), (x - 10, y - 10),\n",
    "    cv2.FONT_HERSHEY_SIMPLEX, 0.65, (0, 255, 0), 2)"
   ]
  },
  {
   "cell_type": "code",
   "execution_count": 49,
   "metadata": {},
   "outputs": [
    {
     "data": {
      "text/plain": [
       "-1"
      ]
     },
     "execution_count": 49,
     "metadata": {},
     "output_type": "execute_result"
    }
   ],
   "source": [
    "# display the digits into a window\n",
    "# print(r\"{}{}.{} \\u00b0C\".format(*digits))\n",
    "cv2.imshow(\"Input\", image)\n",
    "cv2.imshow(\"Output\", output)\n",
    "cv2.waitKey(0)"
   ]
  },
  {
   "cell_type": "code",
   "execution_count": null,
   "metadata": {},
   "outputs": [],
   "source": []
  }
 ],
 "metadata": {
  "kernelspec": {
   "display_name": "Python 3",
   "language": "python",
   "name": "python3"
  },
  "language_info": {
   "codemirror_mode": {
    "name": "ipython",
    "version": 3
   },
   "file_extension": ".py",
   "mimetype": "text/x-python",
   "name": "python",
   "nbconvert_exporter": "python",
   "pygments_lexer": "ipython3",
   "version": "3.7.4"
  }
 },
 "nbformat": 4,
 "nbformat_minor": 2
}